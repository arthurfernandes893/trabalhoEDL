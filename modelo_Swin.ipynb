{
  "nbformat": 4,
  "nbformat_minor": 0,
  "metadata": {
    "colab": {
      "provenance": [],
      "gpuType": "T4"
    },
    "kernelspec": {
      "name": "python3",
      "display_name": "Python 3"
    },
    "language_info": {
      "name": "python"
    },
    "accelerator": "GPU"
  },
  "cells": [
    {
      "cell_type": "markdown",
      "source": [
        " # Modelo Swin\n",
        "\n",
        "- Esse notebook tem a finalidade de oferecer uma implementação não modularizada da oferecida no diretório `./modeloSwin`"
      ],
      "metadata": {
        "id": "x_TsrIX1Szsr"
      }
    },
    {
      "cell_type": "markdown",
      "source": [
        "## Definição dos Imports"
      ],
      "metadata": {
        "id": "YtCtisYyTM0Z"
      }
    },
    {
      "cell_type": "code",
      "execution_count": 1,
      "metadata": {
        "id": "c8U8BkKRSyPK"
      },
      "outputs": [],
      "source": [
        "import torch\n",
        "import torch.nn as nn\n",
        "import torch.optim as optim #importação da função de otimização\n",
        "from torchvision.models import swin_t, Swin_T_Weights # import do modelo Swin Transformer Tiny Architecture e seu conjunto de pesos pré-treinados\n"
      ]
    },
    {
      "cell_type": "markdown",
      "source": [
        "## Definição dos DataLoaders"
      ],
      "metadata": {
        "id": "RH_W4V8VURHj"
      }
    },
    {
      "cell_type": "code",
      "source": [
        "#ajuste dos diretórios\n",
        "import os\n",
        "\n",
        "current_directory = os.getcwd()\n",
        "\n",
        "train_dir = os.path.join(current_directory, \"drive/MyDrive/projetofinal_edl/PokemonSplit\", \"train\")\n",
        "test_dir = os.path.join(current_directory, \"drive/MyDrive/projetofinal_edl/PokemonSplit\", \"test\")\n",
        "print(current_directory, train_dir,test_dir)\n"
      ],
      "metadata": {
        "colab": {
          "base_uri": "https://localhost:8080/"
        },
        "id": "PnNYBdECUT1l",
        "outputId": "c4c41321-4a8e-4acc-ce12-9c0726e1a778"
      },
      "execution_count": 2,
      "outputs": [
        {
          "output_type": "stream",
          "name": "stdout",
          "text": [
            "/content /content/drive/MyDrive/projetofinal_edl/PokemonSplit/train /content/drive/MyDrive/projetofinal_edl/PokemonSplit/test\n"
          ]
        }
      ]
    },
    {
      "cell_type": "code",
      "source": [
        "\n",
        "from torchvision import datasets, transforms\n",
        "from torch.utils.data import DataLoader\n",
        "\n",
        "NUM_WORKERS = os.cpu_count()\n",
        "\n",
        "def create_dataloaders(\n",
        "    train_dir: str,\n",
        "    test_dir: str,\n",
        "    transform: transforms.Compose,\n",
        "    batch_size: int,\n",
        "    num_workers: int=NUM_WORKERS\n",
        "):\n",
        "\n",
        "  # Use ImageFolder to create dataset(s)\n",
        "  train_data = datasets.ImageFolder(train_dir, transform=transform)\n",
        "  test_data = datasets.ImageFolder(test_dir, transform=transform)\n",
        "\n",
        "  # Get class names\n",
        "  class_names = train_data.classes\n",
        "\n",
        "  # Turn images into data loaders\n",
        "  train_dataloader = DataLoader(\n",
        "      train_data,\n",
        "      batch_size=batch_size,\n",
        "      shuffle=True,\n",
        "      num_workers=num_workers,\n",
        "      pin_memory=True,\n",
        "  )\n",
        "  test_dataloader = DataLoader(\n",
        "      test_data,\n",
        "      batch_size=batch_size,\n",
        "      shuffle=False,\n",
        "      num_workers=num_workers,\n",
        "      pin_memory=True,\n",
        "  )\n",
        "\n",
        "  return train_dataloader, test_dataloader, class_names"
      ],
      "metadata": {
        "id": "JD5_BY1CVGpJ"
      },
      "execution_count": 3,
      "outputs": []
    },
    {
      "cell_type": "code",
      "source": [
        "IMG_SIZE = 224\n",
        "\n",
        "manual_transforms = transforms.Compose([\n",
        "    transforms.Resize((IMG_SIZE, IMG_SIZE)),\n",
        "    transforms.ToTensor(),\n",
        "])\n",
        "print(f\"Manually created transforms: {manual_transforms}\")"
      ],
      "metadata": {
        "colab": {
          "base_uri": "https://localhost:8080/"
        },
        "id": "Q1O92uOfVqLx",
        "outputId": "19a12ca2-928a-4b11-ae88-1b65151b5162"
      },
      "execution_count": 4,
      "outputs": [
        {
          "output_type": "stream",
          "name": "stdout",
          "text": [
            "Manually created transforms: Compose(\n",
            "    Resize(size=(224, 224), interpolation=bilinear, max_size=None, antialias=True)\n",
            "    ToTensor()\n",
            ")\n"
          ]
        }
      ]
    },
    {
      "cell_type": "code",
      "source": [
        "# Set the batch size\n",
        "BATCH_SIZE = 32\n",
        "\n",
        "# Create data loaders\n",
        "train_loader, test_loader, class_names = create_dataloaders(\n",
        "    train_dir=train_dir,\n",
        "    test_dir=test_dir,\n",
        "    transform=manual_transforms,\n",
        "    batch_size=BATCH_SIZE\n",
        ")\n",
        "\n",
        "train_loader, test_loader, class_names"
      ],
      "metadata": {
        "colab": {
          "base_uri": "https://localhost:8080/"
        },
        "id": "Sz-NczPnVse-",
        "outputId": "82f529ad-ff2f-4d15-f81c-6bf47714c706"
      },
      "execution_count": 6,
      "outputs": [
        {
          "output_type": "execute_result",
          "data": {
            "text/plain": [
              "(<torch.utils.data.dataloader.DataLoader at 0x786a6a7cec20>,\n",
              " <torch.utils.data.dataloader.DataLoader at 0x786b42257160>,\n",
              " ['Abra',\n",
              "  'Aerodactyl',\n",
              "  'Alakazam',\n",
              "  'Alolan Sandslash',\n",
              "  'Arbok',\n",
              "  'Arcanine',\n",
              "  'Articuno',\n",
              "  'Beedrill',\n",
              "  'Bellsprout',\n",
              "  'Blastoise',\n",
              "  'Bulbasaur',\n",
              "  'Butterfree',\n",
              "  'Caterpie',\n",
              "  'Chansey',\n",
              "  'Charizard',\n",
              "  'Charmander',\n",
              "  'Charmeleon',\n",
              "  'Clefable',\n",
              "  'Clefairy',\n",
              "  'Cloyster',\n",
              "  'Cubone',\n",
              "  'Dewgong',\n",
              "  'Diglett',\n",
              "  'Ditto',\n",
              "  'Dodrio',\n",
              "  'Doduo',\n",
              "  'Dragonair',\n",
              "  'Dragonite',\n",
              "  'Dratini',\n",
              "  'Drowzee',\n",
              "  'Dugtrio',\n",
              "  'Eevee',\n",
              "  'Ekans',\n",
              "  'Electabuzz',\n",
              "  'Electrode',\n",
              "  'Exeggcute',\n",
              "  'Exeggutor',\n",
              "  'Farfetchd',\n",
              "  'Fearow',\n",
              "  'Flareon',\n",
              "  'Gastly',\n",
              "  'Gengar',\n",
              "  'Geodude',\n",
              "  'Gloom',\n",
              "  'Golbat',\n",
              "  'Goldeen',\n",
              "  'Golduck',\n",
              "  'Golem',\n",
              "  'Graveler',\n",
              "  'Grimer',\n",
              "  'Growlithe',\n",
              "  'Gyarados',\n",
              "  'Haunter',\n",
              "  'Hitmonchan',\n",
              "  'Hitmonlee',\n",
              "  'Horsea',\n",
              "  'Hypno',\n",
              "  'Ivysaur',\n",
              "  'Jigglypuff',\n",
              "  'Jolteon',\n",
              "  'Jynx',\n",
              "  'Kabuto',\n",
              "  'Kabutops',\n",
              "  'Kadabra',\n",
              "  'Kakuna',\n",
              "  'Kangaskhan',\n",
              "  'Kingler',\n",
              "  'Koffing',\n",
              "  'Krabby',\n",
              "  'Lapras',\n",
              "  'Lickitung',\n",
              "  'Machamp',\n",
              "  'Machoke',\n",
              "  'Machop',\n",
              "  'Magikarp',\n",
              "  'Magmar',\n",
              "  'Magnemite',\n",
              "  'Magneton',\n",
              "  'Mankey',\n",
              "  'Marowak',\n",
              "  'Meowth',\n",
              "  'Metapod',\n",
              "  'Mew',\n",
              "  'Mewtwo',\n",
              "  'Moltres',\n",
              "  'MrMime',\n",
              "  'Muk',\n",
              "  'Nidoking',\n",
              "  'Nidoqueen',\n",
              "  'Nidorina',\n",
              "  'Nidorino',\n",
              "  'Ninetales',\n",
              "  'Oddish',\n",
              "  'Omanyte',\n",
              "  'Omastar',\n",
              "  'Onix',\n",
              "  'Paras',\n",
              "  'Parasect',\n",
              "  'Persian',\n",
              "  'Pidgeot',\n",
              "  'Pidgeotto',\n",
              "  'Pidgey',\n",
              "  'Pikachu',\n",
              "  'Pinsir',\n",
              "  'Poliwag',\n",
              "  'Poliwhirl',\n",
              "  'Poliwrath',\n",
              "  'Ponyta',\n",
              "  'Porygon',\n",
              "  'Primeape',\n",
              "  'Psyduck',\n",
              "  'Raichu',\n",
              "  'Rapidash',\n",
              "  'Raticate',\n",
              "  'Rattata',\n",
              "  'Rhydon',\n",
              "  'Rhyhorn',\n",
              "  'Sandshrew',\n",
              "  'Sandslash',\n",
              "  'Scyther',\n",
              "  'Seadra',\n",
              "  'Seaking',\n",
              "  'Seel',\n",
              "  'Shellder',\n",
              "  'Slowbro',\n",
              "  'Slowpoke',\n",
              "  'Snorlax',\n",
              "  'Spearow',\n",
              "  'Squirtle',\n",
              "  'Starmie',\n",
              "  'Staryu',\n",
              "  'Tangela',\n",
              "  'Tauros',\n",
              "  'Tentacool',\n",
              "  'Tentacruel',\n",
              "  'Vaporeon',\n",
              "  'Venomoth',\n",
              "  'Venonat',\n",
              "  'Venusaur',\n",
              "  'Victreebel',\n",
              "  'Vileplume',\n",
              "  'Voltorb',\n",
              "  'Vulpix',\n",
              "  'Wartortle',\n",
              "  'Weedle',\n",
              "  'Weepinbell',\n",
              "  'Weezing',\n",
              "  'Wigglytuff',\n",
              "  'Zapdos',\n",
              "  'Zubat'])"
            ]
          },
          "metadata": {},
          "execution_count": 6
        }
      ]
    },
    {
      "cell_type": "markdown",
      "source": [
        "## Construção do Modelo"
      ],
      "metadata": {
        "id": "vKUWo99KTjNP"
      }
    },
    {
      "cell_type": "code",
      "source": [
        "#criação da instância do modelo pré-treinado\n",
        "model = swin_t(weights=Swin_T_Weights.DEFAULT)\n",
        "\n",
        "#alteração da ultima camada de classificação para classificar de acordo com as classes do projeto\n",
        "num_classes = 150\n",
        "model.head = nn.Linear(model.head.in_features, num_classes)\n",
        "print(num_classes)\n",
        "criterion = nn.CrossEntropyLoss()\n",
        "optimizer = optim.Adam(model.parameters(), lr=0.001)  # Adjust learning rate as needed\n",
        "\n"
      ],
      "metadata": {
        "colab": {
          "base_uri": "https://localhost:8080/"
        },
        "id": "C1MGU3FVTm8q",
        "outputId": "8cab1e12-e474-461e-99f8-cf31c5f49b08"
      },
      "execution_count": 10,
      "outputs": [
        {
          "output_type": "stream",
          "name": "stdout",
          "text": [
            "150\n"
          ]
        }
      ]
    },
    {
      "cell_type": "markdown",
      "source": [
        "## Loop de Treinamento"
      ],
      "metadata": {
        "id": "XebLiSH_UUAf"
      }
    },
    {
      "cell_type": "code",
      "source": [
        "# Example dataloaders\n",
        "# train_loader = ...\n",
        "# val_loader = ...\n",
        "\n",
        "num_epochs = 10\n",
        "\n",
        "device = torch.device('cuda' if torch.cuda.is_available() else 'cpu')\n",
        "model.to(device)\n",
        "\n",
        "resultado = []\n",
        "for epoch in range(num_epochs):\n",
        "    model.train()\n",
        "    running_loss = 0.0\n",
        "    for i, (inputs, labels) in enumerate(train_loader):\n",
        "        inputs, labels = inputs.to(device), labels.to(device)\n",
        "\n",
        "        optimizer.zero_grad()\n",
        "\n",
        "        outputs = model(inputs)\n",
        "        loss = criterion(outputs, labels)\n",
        "        loss.backward()\n",
        "        optimizer.step()\n",
        "\n",
        "        running_loss += loss.item()\n",
        "        if (i + 1) % 100 == 0:  # Print every 100 batches\n",
        "            print(f'Epoch [{epoch+1}/{num_epochs}], Step [{i+1}/{len(train_loader)}], Loss: {loss.item():.4f}')\n",
        "\n",
        "    print(f'Epoch [{epoch+1}/{num_epochs}], Loss: {running_loss/len(train_loader):.4f}')\n",
        "\n",
        "\n",
        "    # Validation phase\n",
        "    model.eval()\n",
        "    val_loss = 0.0\n",
        "    correct = 0\n",
        "    total = 0\n",
        "    with torch.no_grad():\n",
        "        for inputs, labels in test_loader:\n",
        "            inputs, labels = inputs.to(device), labels.to(device)\n",
        "\n",
        "            outputs = model(inputs)\n",
        "            loss = criterion(outputs, labels)\n",
        "            val_loss += loss.item()\n",
        "\n",
        "            _, predicted = torch.max(outputs.data, 1)\n",
        "            total += labels.size(0)\n",
        "            correct += (predicted == labels).sum().item()\n",
        "\n",
        "    val_loss /= len(test_loader)\n",
        "    val_accuracy = 100 * correct / total\n",
        "    print(f'Validation Loss: {val_loss:.4f}, Accuracy: {val_accuracy:.2f}%')\n",
        "\n",
        "    result = {\n",
        "      'epoch': epoch,\n",
        "      'train_loss': running_loss/len(train_loader),\n",
        "      'val_loss': val_loss,\n",
        "      'val_accuracy': val_accuracy\n",
        "    }\n",
        "    resultado.append(result)\n",
        "\n",
        "print('Training complete')\n"
      ],
      "metadata": {
        "colab": {
          "base_uri": "https://localhost:8080/"
        },
        "id": "6sg1W-LCUW7R",
        "outputId": "12651fb2-3505-4f4b-ead0-a22be1222fb3"
      },
      "execution_count": 12,
      "outputs": [
        {
          "output_type": "stream",
          "name": "stdout",
          "text": [
            "Epoch [1/10], Step [100/169], Loss: 5.0838\n",
            "Epoch [1/10], Loss: 5.0706\n",
            "Validation Loss: 5.0239, Accuracy: 0.86%\n",
            "Epoch [2/10], Step [100/169], Loss: 5.0854\n",
            "Epoch [2/10], Loss: 5.0462\n",
            "Validation Loss: 5.0198, Accuracy: 0.74%\n",
            "Epoch [3/10], Step [100/169], Loss: 5.0812\n",
            "Epoch [3/10], Loss: 5.0414\n",
            "Validation Loss: 5.0190, Accuracy: 0.74%\n",
            "Epoch [4/10], Step [100/169], Loss: 5.0128\n",
            "Epoch [4/10], Loss: 5.0385\n",
            "Validation Loss: 5.0197, Accuracy: 0.74%\n",
            "Epoch [5/10], Step [100/169], Loss: 4.9754\n",
            "Epoch [5/10], Loss: 5.0286\n",
            "Validation Loss: 5.0158, Accuracy: 0.74%\n",
            "Epoch [6/10], Step [100/169], Loss: 5.0031\n",
            "Epoch [6/10], Loss: 5.0304\n",
            "Validation Loss: 5.0213, Accuracy: 0.74%\n",
            "Epoch [7/10], Step [100/169], Loss: 5.0264\n",
            "Epoch [7/10], Loss: 5.0283\n",
            "Validation Loss: 5.0176, Accuracy: 0.74%\n",
            "Epoch [8/10], Step [100/169], Loss: 5.0685\n",
            "Epoch [8/10], Loss: 5.0292\n",
            "Validation Loss: 5.0135, Accuracy: 0.98%\n",
            "Epoch [9/10], Step [100/169], Loss: 4.9597\n",
            "Epoch [9/10], Loss: 5.0315\n",
            "Validation Loss: 5.0393, Accuracy: 0.74%\n",
            "Epoch [10/10], Step [100/169], Loss: 5.2856\n",
            "Epoch [10/10], Loss: 5.2461\n",
            "Validation Loss: 5.0322, Accuracy: 0.86%\n",
            "Training complete\n"
          ]
        }
      ]
    },
    {
      "cell_type": "markdown",
      "source": [
        "## Classificação de uma imagem aleatória para teste"
      ],
      "metadata": {
        "id": "SZfvcWOiUpi-"
      }
    },
    {
      "cell_type": "code",
      "source": [
        "import matplotlib.pyplot as plt\n",
        "\n",
        "epochs = [res['epoch'] for res in resultado]\n",
        "train_losses = [res['train_loss'] for res in resultado]\n",
        "val_losses = [res['val_loss'] for res in resultado]\n",
        "val_accuracy = [res['val_accuracy'] for res in resultado]\n",
        "\n",
        "plt.figure(figsize = (12,12))\n",
        "plt.subplot(3,3,1)\n",
        "plt.title('train loss')\n",
        "plt.plot(epochs,train_losses,label='train losss')\n",
        "\n",
        "plt.subplot(3,3,2)\n",
        "plt.title('val loss')\n",
        "plt.plot(epochs,val_losses,label='val loss',  color = '#f07800')\n",
        "\n",
        "plt.subplot(3,3,3)\n",
        "plt.title('accuracy')\n",
        "plt.plot(epochs,val_accuracy,label='val loss',  color = '#f07800')\n",
        "plt.show()"
      ],
      "metadata": {
        "colab": {
          "base_uri": "https://localhost:8080/",
          "height": 354
        },
        "id": "TZOsg9LAUuVt",
        "outputId": "4b52ad96-a8c0-4fd1-ad78-93c2bb0c1093"
      },
      "execution_count": 32,
      "outputs": [
        {
          "output_type": "display_data",
          "data": {
            "text/plain": [
              "<Figure size 1200x1200 with 3 Axes>"
            ],
            "image/png": "[encoded data removed]"
          },
          "metadata": {}
        }
      ]
    },
    {
      "cell_type": "markdown",
      "source": [
        "## Code to save the trained model and training info to a file"
      ],
      "metadata": {
        "id": "ACO60almUh71"
      }
    },
    {
      "cell_type": "code",
      "source": [
        "torch.save(model.state_dict(), 'modelSwin.pth')"
      ],
      "metadata": {
        "id": "AA0dVcegUnj2"
      },
      "execution_count": 14,
      "outputs": []
    },
    {
      "cell_type": "code",
      "source": [
        "import csv\n",
        "\n",
        "# Specify the file name\n",
        "filename = 'training_results.csv'\n",
        "\n",
        "# Ensure that the resultado list is not empty\n",
        "if resultado:\n",
        "    # Get the keys from the first dictionary as column headers\n",
        "    keys = resultado[0].keys()\n",
        "\n",
        "    # Open the file in write mode\n",
        "    with open(filename, 'w', newline='') as csvfile:\n",
        "        # Create a DictWriter object\n",
        "        dict_writer = csv.DictWriter(csvfile, fieldnames=keys)\n",
        "\n",
        "        # Write the header\n",
        "        dict_writer.writeheader()\n",
        "\n",
        "        # Write the rows\n",
        "        dict_writer.writerows(resultado)\n"
      ],
      "metadata": {
        "id": "AI9rtMiio-HX"
      },
      "execution_count": 18,
      "outputs": []
    }
  ]
}