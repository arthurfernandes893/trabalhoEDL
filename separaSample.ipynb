{
 "cells": [
  {
   "cell_type": "code",
   "execution_count": 1,
   "metadata": {},
   "outputs": [],
   "source": [
    "import os\n",
    "import shutil\n",
    "import random"
   ]
  },
  {
   "cell_type": "code",
   "execution_count": 2,
   "metadata": {},
   "outputs": [],
   "source": [
    "# Caminho base onde estão as pastas de origem e destino\n",
    "caminho_base = os.getcwd()\n",
    "\n",
    "# Nomes das pastas\n",
    "pasta_origem = 'PokemonSample'\n",
    "pasta_destino_20 = 'Sample-Teste'\n",
    "pasta_destino_80 = 'Sample-Treinamento'"
   ]
  },
  {
   "cell_type": "code",
   "execution_count": 3,
   "metadata": {},
   "outputs": [],
   "source": [
    "def dividir_dataset(caminho_base, pasta_origem, pasta_destino_20, pasta_destino_80):\n",
    "    # Construa os caminhos completos\n",
    "    origem = os.path.join(caminho_base, pasta_origem)\n",
    "    destino_20 = os.path.join(caminho_base, pasta_destino_20)\n",
    "    destino_80 = os.path.join(caminho_base, pasta_destino_80)\n",
    "\n",
    "    # Cria os diretórios de destino se não existirem\n",
    "    if not os.path.exists(destino_20):\n",
    "        print(f\"{destino_20} não existe\")\n",
    "    if not os.path.exists(destino_80):\n",
    "        print(f\"{destino_80} não existe\")\n",
    "    \n",
    "    # Itera sobre cada diretório na pasta de origem\n",
    "    for pasta in os.listdir(origem):\n",
    "        caminho_pasta_origem = os.path.join(origem, pasta)\n",
    "        caminho_pasta_destino_20 = os.path.join(destino_20, pasta)\n",
    "        caminho_pasta_destino_80 = os.path.join(destino_80, pasta)\n",
    "        \n",
    "        # Verifica se é um diretório\n",
    "        if os.path.isdir(caminho_pasta_origem):\n",
    "            # Cria os diretórios de destino se não existirem\n",
    "            if not os.path.exists(caminho_pasta_destino_20):\n",
    "                os.makedirs(caminho_pasta_destino_20)\n",
    "            if not os.path.exists(caminho_pasta_destino_80):\n",
    "                os.makedirs(caminho_pasta_destino_80)\n",
    "            \n",
    "            # Lista todos os arquivos na pasta\n",
    "            arquivos = os.listdir(caminho_pasta_origem)\n",
    "            # Filtra apenas arquivos de imagem (ajuste conforme necessário)\n",
    "            arquivos_imagens = [f for f in arquivos if f.endswith(('.png', '.jpg', '.jpeg'))]\n",
    "            \n",
    "            # Calcula 20% das imagens\n",
    "            num_selecionar = int(len(arquivos_imagens) * 0.2)\n",
    "            # Seleciona aleatoriamente 20% das imagens\n",
    "            imagens_selecionadas = random.sample(arquivos_imagens, num_selecionar)\n",
    "            \n",
    "            # Move as imagens selecionadas para o diretório de 20%\n",
    "            for imagem in imagens_selecionadas:\n",
    "                caminho_imagem_origem = os.path.join(caminho_pasta_origem, imagem)\n",
    "                caminho_imagem_destino_20 = os.path.join(caminho_pasta_destino_20, imagem)\n",
    "                shutil.copy(caminho_imagem_origem, caminho_imagem_destino_20)\n",
    "            \n",
    "            # Move as imagens restantes para o diretório de 80%\n",
    "            imagens_restantes = [f for f in arquivos_imagens if f not in imagens_selecionadas]\n",
    "            for imagem in imagens_restantes:\n",
    "                caminho_imagem_origem = os.path.join(caminho_pasta_origem, imagem)\n",
    "                caminho_imagem_destino_80 = os.path.join(caminho_pasta_destino_80, imagem)\n",
    "                shutil.copy(caminho_imagem_origem, caminho_imagem_destino_80)\n",
    "\n",
    "# Chama a função para dividir o dataset\n",
    "dividir_dataset(caminho_base, pasta_origem, pasta_destino_20, pasta_destino_80)"
   ]
  },
  {
   "cell_type": "code",
   "execution_count": 5,
   "metadata": {},
   "outputs": [
    {
     "name": "stdout",
     "output_type": "stream",
     "text": [
      "--------------PokemonSample-----------------\n",
      "A pasta 'Bulbasaur' contém 41 arquivos.\n",
      "A pasta 'Butterfree' contém 27 arquivos.\n",
      "A pasta 'Charmander' contém 51 arquivos.\n",
      "A pasta 'Eevee' contém 37 arquivos.\n",
      "A pasta 'Gyarados' contém 46 arquivos.\n",
      "A pasta 'Pikachu' contém 62 arquivos.\n",
      "A pasta 'Ponyta' contém 45 arquivos.\n",
      "A pasta 'Psyduck' contém 40 arquivos.\n",
      "A pasta 'Snorlax' contém 59 arquivos.\n",
      "A pasta 'Squirtle' contém 52 arquivos.\n",
      "--------------Sample-Teste-----------------\n",
      "A pasta 'Bulbasaur' contém 8 arquivos.\n",
      "A pasta 'Butterfree' contém 5 arquivos.\n",
      "A pasta 'Charmander' contém 10 arquivos.\n",
      "A pasta 'Eevee' contém 7 arquivos.\n",
      "A pasta 'Gyarados' contém 9 arquivos.\n",
      "A pasta 'Pikachu' contém 12 arquivos.\n",
      "A pasta 'Ponyta' contém 9 arquivos.\n",
      "A pasta 'Psyduck' contém 8 arquivos.\n",
      "A pasta 'Snorlax' contém 11 arquivos.\n",
      "A pasta 'Squirtle' contém 10 arquivos.\n",
      "--------------Sample-Treinamento-----------------\n",
      "A pasta 'Bulbasaur' contém 33 arquivos.\n",
      "A pasta 'Butterfree' contém 22 arquivos.\n",
      "A pasta 'Charmander' contém 41 arquivos.\n",
      "A pasta 'Eevee' contém 30 arquivos.\n",
      "A pasta 'Gyarados' contém 37 arquivos.\n",
      "A pasta 'Pikachu' contém 50 arquivos.\n",
      "A pasta 'Ponyta' contém 36 arquivos.\n",
      "A pasta 'Psyduck' contém 32 arquivos.\n",
      "A pasta 'Snorlax' contém 48 arquivos.\n",
      "A pasta 'Squirtle' contém 42 arquivos.\n"
     ]
    }
   ],
   "source": [
    "def contar_arquivos_por_pasta(diretorio_base):\n",
    "    # Itera sobre cada diretório na pasta base\n",
    "    for pasta in os.listdir(diretorio_base):\n",
    "        caminho_pasta = os.path.join(diretorio_base, pasta)\n",
    "        \n",
    "        # Verifica se é um diretório\n",
    "        if os.path.isdir(caminho_pasta):\n",
    "            # Lista todos os arquivos na pasta\n",
    "            arquivos = os.listdir(caminho_pasta)\n",
    "            # Conta o número de arquivos\n",
    "            num_arquivos = len(arquivos)\n",
    "            print(f\"A pasta '{pasta}' contém {num_arquivos} arquivos.\")\n",
    "\n",
    "\n",
    "# Chama a função para contar arquivos\n",
    "print(f\"--------------{pasta_origem}-----------------\")\n",
    "contar_arquivos_por_pasta(os.path.join(caminho_base, pasta_origem))\n",
    "print(f\"--------------{pasta_destino_20}-----------------\")\n",
    "contar_arquivos_por_pasta(os.path.join(caminho_base, pasta_destino_20))\n",
    "print(f\"--------------{pasta_destino_80}-----------------\")\n",
    "contar_arquivos_por_pasta(os.path.join(caminho_base, pasta_destino_80))"
   ]
  }
 ],
 "metadata": {
  "kernelspec": {
   "display_name": "Python 3",
   "language": "python",
   "name": "python3"
  },
  "language_info": {
   "codemirror_mode": {
    "name": "ipython",
    "version": 3
   },
   "file_extension": ".py",
   "mimetype": "text/x-python",
   "name": "python",
   "nbconvert_exporter": "python",
   "pygments_lexer": "ipython3",
   "version": "3.11.9"
  }
 },
 "nbformat": 4,
 "nbformat_minor": 2
}
