{
 "cells": [
  {
   "cell_type": "markdown",
   "metadata": {},
   "source": [
    "# Separação das amostras usando o módulo Split-Folders"
   ]
  },
  {
   "cell_type": "code",
   "execution_count": null,
   "metadata": {},
   "outputs": [],
   "source": [
    "import splitfolders\n",
    "\n",
    "# Set the root directory and output directories\n",
    "root_folder = 'PokemonData'\n",
    "output_folder = 'PokemonSplit'\n",
    "\n",
    "# Perform the split\n",
    "splitfolders.ratio(root_folder, output=output_folder, seed=1337, ratio=(.8, .1, .1))\n"
   ]
  }
 ],
 "metadata": {
  "language_info": {
   "name": "python"
  }
 },
 "nbformat": 4,
 "nbformat_minor": 2
}
